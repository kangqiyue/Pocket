{
 "cells": [
  {
   "cell_type": "markdown",
   "id": "cf3d05ae",
   "metadata": {},
   "source": [
    "# 词表建立-function"
   ]
  },
  {
   "cell_type": "code",
   "execution_count": 1,
   "id": "112b0ebf",
   "metadata": {},
   "outputs": [],
   "source": [
    "class Lang:\n",
    "    def __init__(self, name):\n",
    "        self.name = name\n",
    "        self.word2index = {}\n",
    "        self.word2count = {}\n",
    "        self.index2word = {0:\"SOS\", 1:\"EOS\"}\n",
    "        self.n_words = 2\n",
    "        \n",
    "    def addSentence(self, sentence):\n",
    "        for word in sentence.split(\" \"):\n",
    "            self.addWord(word)\n",
    "        \n",
    "    def addWord(self, word):\n",
    "        if word not in self.word2index:\n",
    "            self.word2index[word] = self.n_words\n",
    "            self.word2count[word] = 1\n",
    "            self.index2word[self.n_words] = word\n",
    "            self.n_words += 1\n",
    "        else:\n",
    "            self.word2count[word] += 1"
   ]
  },
  {
   "cell_type": "code",
   "execution_count": 2,
   "id": "1500ee74",
   "metadata": {},
   "outputs": [],
   "source": [
    "lang = Lang(\"english\")"
   ]
  },
  {
   "cell_type": "code",
   "execution_count": 3,
   "id": "0d0c2ed1",
   "metadata": {},
   "outputs": [],
   "source": [
    "lang.addSentence(\"I have a sentence\")"
   ]
  },
  {
   "cell_type": "code",
   "execution_count": 4,
   "id": "af59a40e",
   "metadata": {
    "scrolled": true
   },
   "outputs": [
    {
     "name": "stdout",
     "output_type": "stream",
     "text": [
      "word to index: {'I': 2, 'have': 3, 'a': 4, 'sentence': 5}\n",
      "index to word: {0: 'SOS', 1: 'EOS', 2: 'I', 3: 'have', 4: 'a', 5: 'sentence'}\n",
      "word to count: {'I': 1, 'have': 1, 'a': 1, 'sentence': 1}\n"
     ]
    }
   ],
   "source": [
    "print(\"word to index:\", lang.word2index)\n",
    "print(\"index to word:\", lang.index2word)\n",
    "print(\"word to count:\", lang.word2count)"
   ]
  },
  {
   "cell_type": "code",
   "execution_count": 5,
   "id": "8a7d3f8e",
   "metadata": {},
   "outputs": [],
   "source": [
    "lang.addSentence(\"I am Chinese\")"
   ]
  },
  {
   "cell_type": "code",
   "execution_count": 6,
   "id": "898d765c",
   "metadata": {},
   "outputs": [
    {
     "name": "stdout",
     "output_type": "stream",
     "text": [
      "word to index: {'I': 2, 'have': 3, 'a': 4, 'sentence': 5, 'am': 6, 'Chinese': 7}\n",
      "index to word: {0: 'SOS', 1: 'EOS', 2: 'I', 3: 'have', 4: 'a', 5: 'sentence', 6: 'am', 7: 'Chinese'}\n",
      "word to count: {'I': 2, 'have': 1, 'a': 1, 'sentence': 1, 'am': 1, 'Chinese': 1}\n"
     ]
    }
   ],
   "source": [
    "print(\"word to index:\", lang.word2index)\n",
    "print(\"index to word:\", lang.index2word)\n",
    "print(\"word to count:\", lang.word2count)"
   ]
  },
  {
   "cell_type": "markdown",
   "id": "f34ad2b9",
   "metadata": {},
   "source": [
    "# nn.Embedding\n",
    "\n",
    "直观理解，和nn.Linear并无明显区别，但是输入可以变成{词：编号}的格式，并且可以直接和后面的层binding进行梯度下降。同时，可以使用已经训练好的词表进行微调；或者从头开始，根据任务终点训练自己的embedding\n",
    "\n",
    "## ref https://discuss.pytorch.org/t/how-does-nn-embedding-work/88518/2"
   ]
  },
  {
   "cell_type": "markdown",
   "id": "87100263",
   "metadata": {},
   "source": [
    "# forward 函数"
   ]
  },
  {
   "cell_type": "code",
   "execution_count": 3,
   "id": "4da6aa94",
   "metadata": {},
   "outputs": [],
   "source": [
    "import torch \n",
    "import torch.nn as nn  \n",
    "class Module(nn.Module):\n",
    "    def __init__(self, num):\n",
    "        super(Module, self).__init__()\n",
    "        self.num = num\n",
    "\n",
    "    def forward(self, x):\n",
    "        # ......\n",
    "        return x*x"
   ]
  },
  {
   "cell_type": "code",
   "execution_count": 4,
   "id": "dedf4bf5",
   "metadata": {},
   "outputs": [],
   "source": [
    "m = Module(num =111)"
   ]
  },
  {
   "cell_type": "code",
   "execution_count": 5,
   "id": "46b33b21",
   "metadata": {},
   "outputs": [
    {
     "data": {
      "text/plain": [
       "4"
      ]
     },
     "execution_count": 5,
     "metadata": {},
     "output_type": "execute_result"
    }
   ],
   "source": [
    "m(2)"
   ]
  },
  {
   "cell_type": "code",
   "execution_count": 6,
   "id": "10820e7a",
   "metadata": {},
   "outputs": [
    {
     "data": {
      "text/plain": [
       "4"
      ]
     },
     "execution_count": 6,
     "metadata": {},
     "output_type": "execute_result"
    }
   ],
   "source": [
    "m.forward(2)"
   ]
  },
  {
   "cell_type": "code",
   "execution_count": 7,
   "id": "e31f7d17",
   "metadata": {
    "scrolled": true
   },
   "outputs": [
    {
     "data": {
      "text/plain": [
       "81"
      ]
     },
     "execution_count": 7,
     "metadata": {},
     "output_type": "execute_result"
    }
   ],
   "source": [
    "Module(num = 122)(9)"
   ]
  },
  {
   "cell_type": "markdown",
   "id": "ad607e1d",
   "metadata": {},
   "source": [
    "# super example\n",
    "\n",
    "super找自己的父类，正如Child是Base的子类一样"
   ]
  },
  {
   "cell_type": "code",
   "execution_count": 12,
   "id": "c0130869",
   "metadata": {},
   "outputs": [],
   "source": [
    "class Base():\n",
    "    def __init__(self, name):\n",
    "        self.name = name\n",
    "        print(\"base: \", self.name)\n",
    "        print(\"here is the father name\")"
   ]
  },
  {
   "cell_type": "code",
   "execution_count": 13,
   "id": "c2d535a9",
   "metadata": {},
   "outputs": [
    {
     "name": "stdout",
     "output_type": "stream",
     "text": [
      "base:  alex\n",
      "here is the father name\n"
     ]
    }
   ],
   "source": [
    "a = Base(\"alex\")"
   ]
  },
  {
   "cell_type": "code",
   "execution_count": 14,
   "id": "97eae1fa",
   "metadata": {},
   "outputs": [],
   "source": [
    "class Child(Base):\n",
    "    def __init__(self, name, age):\n",
    "        super(Child, self).__init__(name)\n",
    "        self.age = age\n",
    "        print(\"here is child name\")"
   ]
  },
  {
   "cell_type": "code",
   "execution_count": 15,
   "id": "b20c621b",
   "metadata": {
    "scrolled": true
   },
   "outputs": [
    {
     "name": "stdout",
     "output_type": "stream",
     "text": [
      "base:  1\n",
      "here is the father name\n",
      "here is child name\n"
     ]
    }
   ],
   "source": [
    "b = Child(1,4)"
   ]
  },
  {
   "cell_type": "code",
   "execution_count": null,
   "id": "2b6ea609",
   "metadata": {},
   "outputs": [],
   "source": []
  },
  {
   "cell_type": "code",
   "execution_count": null,
   "id": "edf34772",
   "metadata": {},
   "outputs": [],
   "source": []
  }
 ],
 "metadata": {
  "kernelspec": {
   "display_name": "Python 3",
   "language": "python",
   "name": "python3"
  },
  "language_info": {
   "codemirror_mode": {
    "name": "ipython",
    "version": 3
   },
   "file_extension": ".py",
   "mimetype": "text/x-python",
   "name": "python",
   "nbconvert_exporter": "python",
   "pygments_lexer": "ipython3",
   "version": "3.8.8"
  },
  "toc": {
   "base_numbering": 1,
   "nav_menu": {},
   "number_sections": true,
   "sideBar": true,
   "skip_h1_title": false,
   "title_cell": "Table of Contents",
   "title_sidebar": "Contents",
   "toc_cell": false,
   "toc_position": {},
   "toc_section_display": true,
   "toc_window_display": true
  }
 },
 "nbformat": 4,
 "nbformat_minor": 5
}
